{
 "cells": [
  {
   "cell_type": "markdown",
   "metadata": {
    "toc": true
   },
   "source": [
    " <h1>Table of Contents<span class=\"tocSkip\"></span></h1>\n",
    "<div class=\"toc\"><ul class=\"toc-item\"><li><span><a href=\"#Lesson-1-:-¿What-are-descriptive-statistics?\" data-toc-modified-id=\"Lesson-1-:-¿What-are-descriptive-statistics?-1\"><span class=\"toc-item-num\">1&nbsp;&nbsp;</span>Lesson 1 : ¿What are descriptive statistics?</a></span><ul class=\"toc-item\"><li><span><a href=\"#Central-tendency-measurements\" data-toc-modified-id=\"Central-tendency-measurements-1.1\"><span class=\"toc-item-num\">1.1&nbsp;&nbsp;</span><strong>Central tendency measurements</strong></a></span></li><li><span><a href=\"#Measures-of-spread-/-dispersion:\" data-toc-modified-id=\"Measures-of-spread-/-dispersion:-1.2\"><span class=\"toc-item-num\">1.2&nbsp;&nbsp;</span><strong>Measures of spread / dispersion:</strong></a></span></li><li><span><a href=\"#Meaures-of-frequency\" data-toc-modified-id=\"Meaures-of-frequency-1.3\"><span class=\"toc-item-num\">1.3&nbsp;&nbsp;</span><strong>Meaures of frequency</strong></a></span></li><li><span><a href=\"#Describe-function\" data-toc-modified-id=\"Describe-function-1.4\"><span class=\"toc-item-num\">1.4&nbsp;&nbsp;</span>Describe function</a></span></li></ul></li>"
   ]
  },
  {
   "cell_type": "code",
   "execution_count": 1,
   "metadata": {},
   "outputs": [],
   "source": [
    "import pandas as pd\n",
    "import numpy as np\n",
    "from scipy import stats\n",
    "pd.set_option('display.max_columns', None)\n",
    "import warnings\n",
    "warnings.filterwarnings('ignore')\n",
    "import matplotlib.pyplot as plt\n",
    "import seaborn as sns \n",
    "%matplotlib inline"
   ]
  },
  {
   "cell_type": "code",
   "execution_count": 8,
   "metadata": {},
   "outputs": [],
   "source": [
    "data = pd.read_csv('merged_clean_ver2.csv')"
   ]
  },
  {
   "cell_type": "code",
   "execution_count": 9,
   "metadata": {},
   "outputs": [
    {
     "data": {
      "text/html": [
       "<div>\n",
       "<style scoped>\n",
       "    .dataframe tbody tr th:only-of-type {\n",
       "        vertical-align: middle;\n",
       "    }\n",
       "\n",
       "    .dataframe tbody tr th {\n",
       "        vertical-align: top;\n",
       "    }\n",
       "\n",
       "    .dataframe thead th {\n",
       "        text-align: right;\n",
       "    }\n",
       "</style>\n",
       "<table border=\"1\" class=\"dataframe\">\n",
       "  <thead>\n",
       "    <tr style=\"text-align: right;\">\n",
       "      <th></th>\n",
       "      <th>id</th>\n",
       "      <th>state</th>\n",
       "      <th>gender</th>\n",
       "      <th>median_home_val</th>\n",
       "      <th>median_household_income</th>\n",
       "      <th>ic2</th>\n",
       "      <th>ic3</th>\n",
       "      <th>ic4</th>\n",
       "      <th>ic5</th>\n",
       "      <th>avggift</th>\n",
       "      <th>target_d</th>\n",
       "    </tr>\n",
       "  </thead>\n",
       "  <tbody>\n",
       "    <tr>\n",
       "      <th>3213</th>\n",
       "      <td>68120</td>\n",
       "      <td>MI</td>\n",
       "      <td>F</td>\n",
       "      <td>698.000000</td>\n",
       "      <td>340</td>\n",
       "      <td>396</td>\n",
       "      <td>355</td>\n",
       "      <td>436</td>\n",
       "      <td>15577</td>\n",
       "      <td>12.714286</td>\n",
       "      <td>20.0</td>\n",
       "    </tr>\n",
       "    <tr>\n",
       "      <th>1244</th>\n",
       "      <td>91453</td>\n",
       "      <td>IL</td>\n",
       "      <td>F</td>\n",
       "      <td>999.000000</td>\n",
       "      <td>411</td>\n",
       "      <td>453</td>\n",
       "      <td>465</td>\n",
       "      <td>496</td>\n",
       "      <td>15934</td>\n",
       "      <td>18.714286</td>\n",
       "      <td>21.0</td>\n",
       "    </tr>\n",
       "    <tr>\n",
       "      <th>3</th>\n",
       "      <td>21885</td>\n",
       "      <td>NC</td>\n",
       "      <td>M</td>\n",
       "      <td>1158.437751</td>\n",
       "      <td>401</td>\n",
       "      <td>407</td>\n",
       "      <td>399</td>\n",
       "      <td>413</td>\n",
       "      <td>14014</td>\n",
       "      <td>27.277778</td>\n",
       "      <td>38.0</td>\n",
       "    </tr>\n",
       "    <tr>\n",
       "      <th>2334</th>\n",
       "      <td>179876</td>\n",
       "      <td>WA</td>\n",
       "      <td>F</td>\n",
       "      <td>1373.000000</td>\n",
       "      <td>379</td>\n",
       "      <td>539</td>\n",
       "      <td>445</td>\n",
       "      <td>529</td>\n",
       "      <td>19190</td>\n",
       "      <td>7.750000</td>\n",
       "      <td>10.0</td>\n",
       "    </tr>\n",
       "    <tr>\n",
       "      <th>1998</th>\n",
       "      <td>47191</td>\n",
       "      <td>AL</td>\n",
       "      <td>F</td>\n",
       "      <td>950.000000</td>\n",
       "      <td>264</td>\n",
       "      <td>295</td>\n",
       "      <td>330</td>\n",
       "      <td>378</td>\n",
       "      <td>20090</td>\n",
       "      <td>4.142857</td>\n",
       "      <td>5.0</td>\n",
       "    </tr>\n",
       "    <tr>\n",
       "      <th>2979</th>\n",
       "      <td>158935</td>\n",
       "      <td>CA</td>\n",
       "      <td>F</td>\n",
       "      <td>1781.000000</td>\n",
       "      <td>170</td>\n",
       "      <td>186</td>\n",
       "      <td>252</td>\n",
       "      <td>178</td>\n",
       "      <td>14039</td>\n",
       "      <td>7.230769</td>\n",
       "      <td>5.0</td>\n",
       "    </tr>\n",
       "    <tr>\n",
       "      <th>2624</th>\n",
       "      <td>137998</td>\n",
       "      <td>AZ</td>\n",
       "      <td>Female</td>\n",
       "      <td>547.000000</td>\n",
       "      <td>251</td>\n",
       "      <td>292</td>\n",
       "      <td>283</td>\n",
       "      <td>306</td>\n",
       "      <td>10393</td>\n",
       "      <td>17.090909</td>\n",
       "      <td>20.0</td>\n",
       "    </tr>\n",
       "    <tr>\n",
       "      <th>2337</th>\n",
       "      <td>22499</td>\n",
       "      <td>SC</td>\n",
       "      <td>F</td>\n",
       "      <td>438.000000</td>\n",
       "      <td>201</td>\n",
       "      <td>257</td>\n",
       "      <td>242</td>\n",
       "      <td>272</td>\n",
       "      <td>8303</td>\n",
       "      <td>15.615385</td>\n",
       "      <td>10.0</td>\n",
       "    </tr>\n",
       "    <tr>\n",
       "      <th>2001</th>\n",
       "      <td>30051</td>\n",
       "      <td>GA</td>\n",
       "      <td>F</td>\n",
       "      <td>359.000000</td>\n",
       "      <td>205</td>\n",
       "      <td>260</td>\n",
       "      <td>250</td>\n",
       "      <td>292</td>\n",
       "      <td>9279</td>\n",
       "      <td>9.000000</td>\n",
       "      <td>10.0</td>\n",
       "    </tr>\n",
       "    <tr>\n",
       "      <th>3638</th>\n",
       "      <td>139180</td>\n",
       "      <td>NM</td>\n",
       "      <td>F</td>\n",
       "      <td>359.000000</td>\n",
       "      <td>164</td>\n",
       "      <td>186</td>\n",
       "      <td>223</td>\n",
       "      <td>242</td>\n",
       "      <td>7312</td>\n",
       "      <td>8.222222</td>\n",
       "      <td>15.0</td>\n",
       "    </tr>\n",
       "  </tbody>\n",
       "</table>\n",
       "</div>"
      ],
      "text/plain": [
       "          id state  gender  median_home_val  median_household_income  ic2  \\\n",
       "3213   68120    MI       F       698.000000                      340  396   \n",
       "1244   91453    IL       F       999.000000                      411  453   \n",
       "3      21885    NC       M      1158.437751                      401  407   \n",
       "2334  179876    WA       F      1373.000000                      379  539   \n",
       "1998   47191    AL       F       950.000000                      264  295   \n",
       "2979  158935    CA       F      1781.000000                      170  186   \n",
       "2624  137998    AZ  Female       547.000000                      251  292   \n",
       "2337   22499    SC       F       438.000000                      201  257   \n",
       "2001   30051    GA       F       359.000000                      205  260   \n",
       "3638  139180    NM       F       359.000000                      164  186   \n",
       "\n",
       "      ic3  ic4    ic5    avggift  target_d  \n",
       "3213  355  436  15577  12.714286      20.0  \n",
       "1244  465  496  15934  18.714286      21.0  \n",
       "3     399  413  14014  27.277778      38.0  \n",
       "2334  445  529  19190   7.750000      10.0  \n",
       "1998  330  378  20090   4.142857       5.0  \n",
       "2979  252  178  14039   7.230769       5.0  \n",
       "2624  283  306  10393  17.090909      20.0  \n",
       "2337  242  272   8303  15.615385      10.0  \n",
       "2001  250  292   9279   9.000000      10.0  \n",
       "3638  223  242   7312   8.222222      15.0  "
      ]
     },
     "execution_count": 9,
     "metadata": {},
     "output_type": "execute_result"
    }
   ],
   "source": [
    "data.sample(10) #random 10 rows"
   ]
  },
  {
   "cell_type": "code",
   "execution_count": null,
   "metadata": {},
   "outputs": [],
   "source": []
  },
  {
   "cell_type": "markdown",
   "metadata": {},
   "source": [
    "#  ¿What are descriptive statistics?\n",
    "\n",
    "It's a way to describe our data to someone without giving all of the data. For that we use diferent measures:"
   ]
  },
  {
   "cell_type": "markdown",
   "metadata": {},
   "source": [
    "+ Measures of central tendency - Mean, median, mode\n",
    "+ Measures of spread / dispersion - SD, var, range, quartiles, percentiles\n",
    "+ Meaures of frequency - Frequency"
   ]
  },
  {
   "cell_type": "markdown",
   "metadata": {},
   "source": [
    "## **1. Central tendency measurements**\n",
    "\n"
   ]
  },
  {
   "cell_type": "markdown",
   "metadata": {},
   "source": [
    "+ **Arithmetic mean (average)** of a variable is found by adding all numbers in the variable and then dividing by the number of values.\n",
    "+ **Median** is the middle value when a variable is ordered from least to greatest.(If even number is the arithmetic mean between the two in the middle). It is also the Q2 or the 50% of accumulated values.\n",
    "+ **Mode** is the value/category that occurs most often in a variable.The most frequent."
   ]
  },
  {
   "cell_type": "code",
   "execution_count": 10,
   "metadata": {},
   "outputs": [],
   "source": [
    "sample1 = [1,1,2,2,3,4,5,7,8,9]"
   ]
  },
  {
   "cell_type": "code",
   "execution_count": 11,
   "metadata": {},
   "outputs": [
    {
     "data": {
      "text/plain": [
       "4.2"
      ]
     },
     "execution_count": 11,
     "metadata": {},
     "output_type": "execute_result"
    }
   ],
   "source": [
    "my_mean = sum(sample1)/len(sample1)\n",
    "my_mean"
   ]
  },
  {
   "cell_type": "code",
   "execution_count": 12,
   "metadata": {},
   "outputs": [
    {
     "data": {
      "text/plain": [
       "4.2"
      ]
     },
     "execution_count": 12,
     "metadata": {},
     "output_type": "execute_result"
    }
   ],
   "source": [
    "np.mean(sample1) #numpy library"
   ]
  },
  {
   "cell_type": "code",
   "execution_count": 13,
   "metadata": {},
   "outputs": [
    {
     "data": {
      "text/plain": [
       "3.5"
      ]
     },
     "execution_count": 13,
     "metadata": {},
     "output_type": "execute_result"
    }
   ],
   "source": [
    "np.median(sample1)"
   ]
  },
  {
   "cell_type": "markdown",
   "metadata": {},
   "source": [
    "Now with pandas and checking the column \"median_home_val\""
   ]
  },
  {
   "cell_type": "code",
   "execution_count": 14,
   "metadata": {},
   "outputs": [
    {
     "name": "stdout",
     "output_type": "stream",
     "text": [
      "Mean:  1158.437751004007\n",
      "Median:  803.0\n",
      "Mode:  0    0.0\n",
      "Name: median_home_val, dtype: float64\n"
     ]
    }
   ],
   "source": [
    "print(\"Mean: \",data[\"median_home_val\"].mean())\n",
    "\n",
    "print(\"Median: \",data[\"median_home_val\"].median())\n",
    "\n",
    "print(\"Mode: \",data[\"median_home_val\"].mode()) #mode makes sense for categoricals or discrete"
   ]
  },
  {
   "cell_type": "code",
   "execution_count": 15,
   "metadata": {},
   "outputs": [
    {
     "data": {
      "text/html": [
       "<div>\n",
       "<style scoped>\n",
       "    .dataframe tbody tr th:only-of-type {\n",
       "        vertical-align: middle;\n",
       "    }\n",
       "\n",
       "    .dataframe tbody tr th {\n",
       "        vertical-align: top;\n",
       "    }\n",
       "\n",
       "    .dataframe thead th {\n",
       "        text-align: right;\n",
       "    }\n",
       "</style>\n",
       "<table border=\"1\" class=\"dataframe\">\n",
       "  <thead>\n",
       "    <tr style=\"text-align: right;\">\n",
       "      <th></th>\n",
       "      <th>id</th>\n",
       "      <th>median_home_val</th>\n",
       "      <th>median_household_income</th>\n",
       "      <th>ic2</th>\n",
       "      <th>ic3</th>\n",
       "      <th>ic4</th>\n",
       "      <th>ic5</th>\n",
       "      <th>avggift</th>\n",
       "      <th>target_d</th>\n",
       "    </tr>\n",
       "  </thead>\n",
       "  <tbody>\n",
       "    <tr>\n",
       "      <th>count</th>\n",
       "      <td>3993.000000</td>\n",
       "      <td>3993.000000</td>\n",
       "      <td>3993.000000</td>\n",
       "      <td>3993.000000</td>\n",
       "      <td>3993.000000</td>\n",
       "      <td>3993.000000</td>\n",
       "      <td>3993.000000</td>\n",
       "      <td>3993.000000</td>\n",
       "      <td>3993.000000</td>\n",
       "    </tr>\n",
       "    <tr>\n",
       "      <th>mean</th>\n",
       "      <td>98929.308039</td>\n",
       "      <td>1158.437751</td>\n",
       "      <td>351.622840</td>\n",
       "      <td>400.713248</td>\n",
       "      <td>399.876283</td>\n",
       "      <td>444.732031</td>\n",
       "      <td>16456.413724</td>\n",
       "      <td>11.785117</td>\n",
       "      <td>15.665036</td>\n",
       "    </tr>\n",
       "    <tr>\n",
       "      <th>std</th>\n",
       "      <td>58179.839090</td>\n",
       "      <td>1033.485773</td>\n",
       "      <td>168.488445</td>\n",
       "      <td>180.568500</td>\n",
       "      <td>164.822741</td>\n",
       "      <td>175.004178</td>\n",
       "      <td>9455.318118</td>\n",
       "      <td>10.172672</td>\n",
       "      <td>12.703041</td>\n",
       "    </tr>\n",
       "    <tr>\n",
       "      <th>min</th>\n",
       "      <td>12.000000</td>\n",
       "      <td>0.000000</td>\n",
       "      <td>0.000000</td>\n",
       "      <td>0.000000</td>\n",
       "      <td>0.000000</td>\n",
       "      <td>0.000000</td>\n",
       "      <td>0.000000</td>\n",
       "      <td>2.260870</td>\n",
       "      <td>1.000000</td>\n",
       "    </tr>\n",
       "    <tr>\n",
       "      <th>25%</th>\n",
       "      <td>46153.000000</td>\n",
       "      <td>548.000000</td>\n",
       "      <td>239.000000</td>\n",
       "      <td>284.000000</td>\n",
       "      <td>287.000000</td>\n",
       "      <td>325.000000</td>\n",
       "      <td>11136.000000</td>\n",
       "      <td>7.187500</td>\n",
       "      <td>10.000000</td>\n",
       "    </tr>\n",
       "    <tr>\n",
       "      <th>50%</th>\n",
       "      <td>101432.000000</td>\n",
       "      <td>803.000000</td>\n",
       "      <td>318.000000</td>\n",
       "      <td>366.000000</td>\n",
       "      <td>365.000000</td>\n",
       "      <td>410.000000</td>\n",
       "      <td>14356.000000</td>\n",
       "      <td>10.000000</td>\n",
       "      <td>14.000000</td>\n",
       "    </tr>\n",
       "    <tr>\n",
       "      <th>75%</th>\n",
       "      <td>151653.000000</td>\n",
       "      <td>1349.000000</td>\n",
       "      <td>425.000000</td>\n",
       "      <td>478.000000</td>\n",
       "      <td>480.000000</td>\n",
       "      <td>528.000000</td>\n",
       "      <td>18780.000000</td>\n",
       "      <td>14.428571</td>\n",
       "      <td>20.000000</td>\n",
       "    </tr>\n",
       "    <tr>\n",
       "      <th>max</th>\n",
       "      <td>191779.000000</td>\n",
       "      <td>5982.000000</td>\n",
       "      <td>1500.000000</td>\n",
       "      <td>1500.000000</td>\n",
       "      <td>1311.000000</td>\n",
       "      <td>1331.000000</td>\n",
       "      <td>174523.000000</td>\n",
       "      <td>450.000000</td>\n",
       "      <td>200.000000</td>\n",
       "    </tr>\n",
       "  </tbody>\n",
       "</table>\n",
       "</div>"
      ],
      "text/plain": [
       "                  id  median_home_val  median_household_income          ic2  \\\n",
       "count    3993.000000      3993.000000              3993.000000  3993.000000   \n",
       "mean    98929.308039      1158.437751               351.622840   400.713248   \n",
       "std     58179.839090      1033.485773               168.488445   180.568500   \n",
       "min        12.000000         0.000000                 0.000000     0.000000   \n",
       "25%     46153.000000       548.000000               239.000000   284.000000   \n",
       "50%    101432.000000       803.000000               318.000000   366.000000   \n",
       "75%    151653.000000      1349.000000               425.000000   478.000000   \n",
       "max    191779.000000      5982.000000              1500.000000  1500.000000   \n",
       "\n",
       "               ic3          ic4            ic5      avggift     target_d  \n",
       "count  3993.000000  3993.000000    3993.000000  3993.000000  3993.000000  \n",
       "mean    399.876283   444.732031   16456.413724    11.785117    15.665036  \n",
       "std     164.822741   175.004178    9455.318118    10.172672    12.703041  \n",
       "min       0.000000     0.000000       0.000000     2.260870     1.000000  \n",
       "25%     287.000000   325.000000   11136.000000     7.187500    10.000000  \n",
       "50%     365.000000   410.000000   14356.000000    10.000000    14.000000  \n",
       "75%     480.000000   528.000000   18780.000000    14.428571    20.000000  \n",
       "max    1311.000000  1331.000000  174523.000000   450.000000   200.000000  "
      ]
     },
     "execution_count": 15,
     "metadata": {},
     "output_type": "execute_result"
    }
   ],
   "source": [
    "data.describe()"
   ]
  },
  {
   "cell_type": "markdown",
   "metadata": {},
   "source": [
    "What does it mean that mean is higher than median??"
   ]
  },
  {
   "cell_type": "code",
   "execution_count": 16,
   "metadata": {},
   "outputs": [
    {
     "data": {
      "text/plain": [
       "<AxesSubplot:>"
      ]
     },
     "execution_count": 16,
     "metadata": {},
     "output_type": "execute_result"
    },
    {
     "data": {
      "image/png": "[encoded data removed]",
      "text/plain": [
       "<Figure size 640x480 with 1 Axes>"
      ]
     },
     "metadata": {},
     "output_type": "display_data"
    }
   ],
   "source": [
    "data[\"median_home_val\"].hist()"
   ]
  },
  {
   "cell_type": "markdown",
   "metadata": {},
   "source": [
    "## **2. Measures of spread / dispersion:**\n",
    "\n",
    "+ **Range:** defines the difference between the highest and lowest values.\n",
    "+ **Variance**: measures how far each number in the set is from the mean and thus from every other number in the set.\n",
    "+ **Standard deviation:** The standard deviation is a statistic that measures the dispersion of a dataset relative to its mean and is calculated as the square root of the variance\n",
    "+ **Quartiles:** A quartile is a statistical term that describes a division of observations into four defined intervals based on the values of the data and how they compare to the entire set of observations.\n",
    "+ **Percentiles:** same but divided in 100 groups."
   ]
  },
  {
   "cell_type": "markdown",
   "metadata": {},
   "source": [
    "![quartiles](https://www.onlinemathlearning.com/image-files/median-quartiles.png)"
   ]
  },
  {
   "cell_type": "code",
   "execution_count": 17,
   "metadata": {},
   "outputs": [
    {
     "data": {
      "text/plain": [
       "8"
      ]
     },
     "execution_count": 17,
     "metadata": {},
     "output_type": "execute_result"
    }
   ],
   "source": [
    "my_range = max(sample1) - min(sample1)\n",
    "my_range"
   ]
  },
  {
   "cell_type": "code",
   "execution_count": 18,
   "metadata": {},
   "outputs": [
    {
     "data": {
      "text/plain": [
       "5982.0"
      ]
     },
     "execution_count": 18,
     "metadata": {},
     "output_type": "execute_result"
    }
   ],
   "source": [
    "my_range2 = max(data[\"median_home_val\"]) - min (data[\"median_home_val\"])\n",
    "my_range2"
   ]
  },
  {
   "cell_type": "markdown",
   "metadata": {},
   "source": [
    "**Variance**"
   ]
  },
  {
   "cell_type": "code",
   "execution_count": 19,
   "metadata": {},
   "outputs": [
    {
     "data": {
      "text/plain": [
       "7.76"
      ]
     },
     "execution_count": 19,
     "metadata": {},
     "output_type": "execute_result"
    }
   ],
   "source": [
    "np.var(sample1)"
   ]
  },
  {
   "cell_type": "code",
   "execution_count": 20,
   "metadata": {},
   "outputs": [
    {
     "data": {
      "text/plain": [
       "1067825.3525074506"
      ]
     },
     "execution_count": 20,
     "metadata": {},
     "output_type": "execute_result"
    }
   ],
   "source": [
    "np.var(data[\"median_home_val\"])"
   ]
  },
  {
   "cell_type": "markdown",
   "metadata": {},
   "source": [
    "**STD**"
   ]
  },
  {
   "cell_type": "code",
   "execution_count": 21,
   "metadata": {},
   "outputs": [
    {
     "data": {
      "text/plain": [
       "2.7856776554368237"
      ]
     },
     "execution_count": 21,
     "metadata": {},
     "output_type": "execute_result"
    }
   ],
   "source": [
    "np.std(sample1)"
   ]
  },
  {
   "cell_type": "code",
   "execution_count": 22,
   "metadata": {},
   "outputs": [
    {
     "data": {
      "text/plain": [
       "1033.3563531074121"
      ]
     },
     "execution_count": 22,
     "metadata": {},
     "output_type": "execute_result"
    }
   ],
   "source": [
    "np.std(data[\"median_home_val\"])"
   ]
  },
  {
   "cell_type": "markdown",
   "metadata": {},
   "source": [
    "**Quantile**"
   ]
  },
  {
   "cell_type": "code",
   "execution_count": 23,
   "metadata": {},
   "outputs": [
    {
     "data": {
      "text/plain": [
       "[1, 1, 2, 2, 3, 4, 5, 7, 8, 9]"
      ]
     },
     "execution_count": 23,
     "metadata": {},
     "output_type": "execute_result"
    }
   ],
   "source": [
    "sample1"
   ]
  },
  {
   "cell_type": "code",
   "execution_count": 24,
   "metadata": {},
   "outputs": [
    {
     "data": {
      "text/plain": [
       "2.0"
      ]
     },
     "execution_count": 24,
     "metadata": {},
     "output_type": "execute_result"
    }
   ],
   "source": [
    "np.quantile(sample1, 0.25)"
   ]
  },
  {
   "cell_type": "code",
   "execution_count": 25,
   "metadata": {},
   "outputs": [
    {
     "data": {
      "text/plain": [
       "3.5"
      ]
     },
     "execution_count": 25,
     "metadata": {},
     "output_type": "execute_result"
    }
   ],
   "source": [
    "np.quantile(sample1, 0.5) #median"
   ]
  },
  {
   "cell_type": "code",
   "execution_count": 26,
   "metadata": {},
   "outputs": [
    {
     "data": {
      "text/plain": [
       "6.5"
      ]
     },
     "execution_count": 26,
     "metadata": {},
     "output_type": "execute_result"
    }
   ],
   "source": [
    "np.quantile(sample1, 0.75)"
   ]
  },
  {
   "cell_type": "code",
   "execution_count": 27,
   "metadata": {},
   "outputs": [
    {
     "data": {
      "text/plain": [
       "1"
      ]
     },
     "execution_count": 27,
     "metadata": {},
     "output_type": "execute_result"
    }
   ],
   "source": [
    "np.quantile(sample1, 0) #min value"
   ]
  },
  {
   "cell_type": "code",
   "execution_count": 28,
   "metadata": {},
   "outputs": [
    {
     "data": {
      "text/plain": [
       "9"
      ]
     },
     "execution_count": 28,
     "metadata": {},
     "output_type": "execute_result"
    }
   ],
   "source": [
    "np.quantile(sample1, 1) #max value"
   ]
  },
  {
   "cell_type": "markdown",
   "metadata": {},
   "source": [
    "**Percentile**"
   ]
  },
  {
   "cell_type": "code",
   "execution_count": 29,
   "metadata": {},
   "outputs": [
    {
     "data": {
      "text/plain": [
       "2.0"
      ]
     },
     "execution_count": 29,
     "metadata": {},
     "output_type": "execute_result"
    }
   ],
   "source": [
    "np.percentile(sample1, 25)"
   ]
  },
  {
   "cell_type": "code",
   "execution_count": 30,
   "metadata": {},
   "outputs": [
    {
     "data": {
      "text/plain": [
       "3.5"
      ]
     },
     "execution_count": 30,
     "metadata": {},
     "output_type": "execute_result"
    }
   ],
   "source": [
    "np.percentile(sample1,50)"
   ]
  },
  {
   "cell_type": "code",
   "execution_count": 31,
   "metadata": {},
   "outputs": [
    {
     "data": {
      "text/plain": [
       "6.5"
      ]
     },
     "execution_count": 31,
     "metadata": {},
     "output_type": "execute_result"
    }
   ],
   "source": [
    "np.percentile(sample1,75)"
   ]
  },
  {
   "cell_type": "code",
   "execution_count": 32,
   "metadata": {},
   "outputs": [
    {
     "data": {
      "text/plain": [
       "9.0"
      ]
     },
     "execution_count": 32,
     "metadata": {},
     "output_type": "execute_result"
    }
   ],
   "source": [
    "np.percentile(sample1,100)"
   ]
  },
  {
   "cell_type": "code",
   "execution_count": 33,
   "metadata": {},
   "outputs": [
    {
     "data": {
      "text/plain": [
       "1.0"
      ]
     },
     "execution_count": 33,
     "metadata": {},
     "output_type": "execute_result"
    }
   ],
   "source": [
    "np.percentile(sample1, 0)"
   ]
  },
  {
   "cell_type": "markdown",
   "metadata": {},
   "source": [
    "## **3. Meaures of frequency**\n",
    "+ **Frequency:** absolute frequency is a simple count of the number of times a value is observed"
   ]
  },
  {
   "cell_type": "code",
   "execution_count": 34,
   "metadata": {},
   "outputs": [
    {
     "data": {
      "text/plain": [
       "[1, 1, 2, 2, 3, 4, 5, 7, 8, 9]"
      ]
     },
     "execution_count": 34,
     "metadata": {},
     "output_type": "execute_result"
    }
   ],
   "source": [
    "sample1"
   ]
  },
  {
   "cell_type": "code",
   "execution_count": 35,
   "metadata": {},
   "outputs": [
    {
     "data": {
      "text/plain": [
       "2"
      ]
     },
     "execution_count": 35,
     "metadata": {},
     "output_type": "execute_result"
    }
   ],
   "source": [
    "sample1.count(2)"
   ]
  },
  {
   "cell_type": "code",
   "execution_count": 36,
   "metadata": {},
   "outputs": [
    {
     "data": {
      "text/plain": [
       "CA            751\n",
       "FL            337\n",
       "TX            293\n",
       "IL            247\n",
       "MI            225\n",
       "NC            168\n",
       "WA            153\n",
       "GA            122\n",
       "OR            117\n",
       "WI            110\n",
       "MO            108\n",
       "IN            108\n",
       "California    100\n",
       "CO             88\n",
       "AZ             88\n",
       "SC             85\n",
       "MN             75\n",
       "KY             67\n",
       "AL             59\n",
       "OK             57\n",
       "LA             56\n",
       "TN             52\n",
       "KS             48\n",
       "NV             46\n",
       "IA             44\n",
       "NM             44\n",
       "AR             42\n",
       "NE             33\n",
       "MS             33\n",
       "Tennessee      29\n",
       "MT             24\n",
       "Cali           24\n",
       "ID             23\n",
       "SD             22\n",
       "HI             21\n",
       "UT             21\n",
       "Arizona        17\n",
       "ND             16\n",
       "WY             12\n",
       "AK              6\n",
       "MD              4\n",
       "CT              3\n",
       "AP              3\n",
       "NJ              2\n",
       "AA              2\n",
       "PA              2\n",
       "NY              1\n",
       "VA              1\n",
       "AE              1\n",
       "VT              1\n",
       "WV              1\n",
       "GU              1\n",
       "Name: state, dtype: int64"
      ]
     },
     "execution_count": 36,
     "metadata": {},
     "output_type": "execute_result"
    }
   ],
   "source": [
    "data[\"state\"].value_counts()"
   ]
  },
  {
   "cell_type": "markdown",
   "metadata": {},
   "source": [
    "## Describe function"
   ]
  },
  {
   "cell_type": "code",
   "execution_count": 37,
   "metadata": {},
   "outputs": [
    {
     "data": {
      "text/html": [
       "<div>\n",
       "<style scoped>\n",
       "    .dataframe tbody tr th:only-of-type {\n",
       "        vertical-align: middle;\n",
       "    }\n",
       "\n",
       "    .dataframe tbody tr th {\n",
       "        vertical-align: top;\n",
       "    }\n",
       "\n",
       "    .dataframe thead th {\n",
       "        text-align: right;\n",
       "    }\n",
       "</style>\n",
       "<table border=\"1\" class=\"dataframe\">\n",
       "  <thead>\n",
       "    <tr style=\"text-align: right;\">\n",
       "      <th></th>\n",
       "      <th>id</th>\n",
       "      <th>median_home_val</th>\n",
       "      <th>median_household_income</th>\n",
       "      <th>ic2</th>\n",
       "      <th>ic3</th>\n",
       "      <th>ic4</th>\n",
       "      <th>ic5</th>\n",
       "      <th>avggift</th>\n",
       "      <th>target_d</th>\n",
       "    </tr>\n",
       "  </thead>\n",
       "  <tbody>\n",
       "    <tr>\n",
       "      <th>count</th>\n",
       "      <td>3993.000000</td>\n",
       "      <td>3993.000000</td>\n",
       "      <td>3993.000000</td>\n",
       "      <td>3993.000000</td>\n",
       "      <td>3993.000000</td>\n",
       "      <td>3993.000000</td>\n",
       "      <td>3993.000000</td>\n",
       "      <td>3993.000000</td>\n",
       "      <td>3993.000000</td>\n",
       "    </tr>\n",
       "    <tr>\n",
       "      <th>mean</th>\n",
       "      <td>98929.308039</td>\n",
       "      <td>1158.437751</td>\n",
       "      <td>351.622840</td>\n",
       "      <td>400.713248</td>\n",
       "      <td>399.876283</td>\n",
       "      <td>444.732031</td>\n",
       "      <td>16456.413724</td>\n",
       "      <td>11.785117</td>\n",
       "      <td>15.665036</td>\n",
       "    </tr>\n",
       "    <tr>\n",
       "      <th>std</th>\n",
       "      <td>58179.839090</td>\n",
       "      <td>1033.485773</td>\n",
       "      <td>168.488445</td>\n",
       "      <td>180.568500</td>\n",
       "      <td>164.822741</td>\n",
       "      <td>175.004178</td>\n",
       "      <td>9455.318118</td>\n",
       "      <td>10.172672</td>\n",
       "      <td>12.703041</td>\n",
       "    </tr>\n",
       "    <tr>\n",
       "      <th>min</th>\n",
       "      <td>12.000000</td>\n",
       "      <td>0.000000</td>\n",
       "      <td>0.000000</td>\n",
       "      <td>0.000000</td>\n",
       "      <td>0.000000</td>\n",
       "      <td>0.000000</td>\n",
       "      <td>0.000000</td>\n",
       "      <td>2.260870</td>\n",
       "      <td>1.000000</td>\n",
       "    </tr>\n",
       "    <tr>\n",
       "      <th>25%</th>\n",
       "      <td>46153.000000</td>\n",
       "      <td>548.000000</td>\n",
       "      <td>239.000000</td>\n",
       "      <td>284.000000</td>\n",
       "      <td>287.000000</td>\n",
       "      <td>325.000000</td>\n",
       "      <td>11136.000000</td>\n",
       "      <td>7.187500</td>\n",
       "      <td>10.000000</td>\n",
       "    </tr>\n",
       "    <tr>\n",
       "      <th>50%</th>\n",
       "      <td>101432.000000</td>\n",
       "      <td>803.000000</td>\n",
       "      <td>318.000000</td>\n",
       "      <td>366.000000</td>\n",
       "      <td>365.000000</td>\n",
       "      <td>410.000000</td>\n",
       "      <td>14356.000000</td>\n",
       "      <td>10.000000</td>\n",
       "      <td>14.000000</td>\n",
       "    </tr>\n",
       "    <tr>\n",
       "      <th>75%</th>\n",
       "      <td>151653.000000</td>\n",
       "      <td>1349.000000</td>\n",
       "      <td>425.000000</td>\n",
       "      <td>478.000000</td>\n",
       "      <td>480.000000</td>\n",
       "      <td>528.000000</td>\n",
       "      <td>18780.000000</td>\n",
       "      <td>14.428571</td>\n",
       "      <td>20.000000</td>\n",
       "    </tr>\n",
       "    <tr>\n",
       "      <th>max</th>\n",
       "      <td>191779.000000</td>\n",
       "      <td>5982.000000</td>\n",
       "      <td>1500.000000</td>\n",
       "      <td>1500.000000</td>\n",
       "      <td>1311.000000</td>\n",
       "      <td>1331.000000</td>\n",
       "      <td>174523.000000</td>\n",
       "      <td>450.000000</td>\n",
       "      <td>200.000000</td>\n",
       "    </tr>\n",
       "  </tbody>\n",
       "</table>\n",
       "</div>"
      ],
      "text/plain": [
       "                  id  median_home_val  median_household_income          ic2  \\\n",
       "count    3993.000000      3993.000000              3993.000000  3993.000000   \n",
       "mean    98929.308039      1158.437751               351.622840   400.713248   \n",
       "std     58179.839090      1033.485773               168.488445   180.568500   \n",
       "min        12.000000         0.000000                 0.000000     0.000000   \n",
       "25%     46153.000000       548.000000               239.000000   284.000000   \n",
       "50%    101432.000000       803.000000               318.000000   366.000000   \n",
       "75%    151653.000000      1349.000000               425.000000   478.000000   \n",
       "max    191779.000000      5982.000000              1500.000000  1500.000000   \n",
       "\n",
       "               ic3          ic4            ic5      avggift     target_d  \n",
       "count  3993.000000  3993.000000    3993.000000  3993.000000  3993.000000  \n",
       "mean    399.876283   444.732031   16456.413724    11.785117    15.665036  \n",
       "std     164.822741   175.004178    9455.318118    10.172672    12.703041  \n",
       "min       0.000000     0.000000       0.000000     2.260870     1.000000  \n",
       "25%     287.000000   325.000000   11136.000000     7.187500    10.000000  \n",
       "50%     365.000000   410.000000   14356.000000    10.000000    14.000000  \n",
       "75%     480.000000   528.000000   18780.000000    14.428571    20.000000  \n",
       "max    1311.000000  1331.000000  174523.000000   450.000000   200.000000  "
      ]
     },
     "execution_count": 37,
     "metadata": {},
     "output_type": "execute_result"
    }
   ],
   "source": [
    "data.describe()\n",
    "# data.describe(include=[np.number])"
   ]
  },
  {
   "cell_type": "code",
   "execution_count": 38,
   "metadata": {},
   "outputs": [
    {
     "data": {
      "text/html": [
       "<div>\n",
       "<style scoped>\n",
       "    .dataframe tbody tr th:only-of-type {\n",
       "        vertical-align: middle;\n",
       "    }\n",
       "\n",
       "    .dataframe tbody tr th {\n",
       "        vertical-align: top;\n",
       "    }\n",
       "\n",
       "    .dataframe thead th {\n",
       "        text-align: right;\n",
       "    }\n",
       "</style>\n",
       "<table border=\"1\" class=\"dataframe\">\n",
       "  <thead>\n",
       "    <tr style=\"text-align: right;\">\n",
       "      <th></th>\n",
       "      <th>id</th>\n",
       "      <th>state</th>\n",
       "      <th>gender</th>\n",
       "      <th>median_home_val</th>\n",
       "      <th>median_household_income</th>\n",
       "      <th>ic2</th>\n",
       "      <th>ic3</th>\n",
       "      <th>ic4</th>\n",
       "      <th>ic5</th>\n",
       "      <th>avggift</th>\n",
       "      <th>target_d</th>\n",
       "    </tr>\n",
       "  </thead>\n",
       "  <tbody>\n",
       "    <tr>\n",
       "      <th>count</th>\n",
       "      <td>3993.000000</td>\n",
       "      <td>3993</td>\n",
       "      <td>3993</td>\n",
       "      <td>3993.000000</td>\n",
       "      <td>3993.000000</td>\n",
       "      <td>3993.000000</td>\n",
       "      <td>3993.000000</td>\n",
       "      <td>3993.000000</td>\n",
       "      <td>3993.000000</td>\n",
       "      <td>3993.000000</td>\n",
       "      <td>3993.000000</td>\n",
       "    </tr>\n",
       "    <tr>\n",
       "      <th>unique</th>\n",
       "      <td>NaN</td>\n",
       "      <td>52</td>\n",
       "      <td>10</td>\n",
       "      <td>NaN</td>\n",
       "      <td>NaN</td>\n",
       "      <td>NaN</td>\n",
       "      <td>NaN</td>\n",
       "      <td>NaN</td>\n",
       "      <td>NaN</td>\n",
       "      <td>NaN</td>\n",
       "      <td>NaN</td>\n",
       "    </tr>\n",
       "    <tr>\n",
       "      <th>top</th>\n",
       "      <td>NaN</td>\n",
       "      <td>CA</td>\n",
       "      <td>F</td>\n",
       "      <td>NaN</td>\n",
       "      <td>NaN</td>\n",
       "      <td>NaN</td>\n",
       "      <td>NaN</td>\n",
       "      <td>NaN</td>\n",
       "      <td>NaN</td>\n",
       "      <td>NaN</td>\n",
       "      <td>NaN</td>\n",
       "    </tr>\n",
       "    <tr>\n",
       "      <th>freq</th>\n",
       "      <td>NaN</td>\n",
       "      <td>751</td>\n",
       "      <td>2080</td>\n",
       "      <td>NaN</td>\n",
       "      <td>NaN</td>\n",
       "      <td>NaN</td>\n",
       "      <td>NaN</td>\n",
       "      <td>NaN</td>\n",
       "      <td>NaN</td>\n",
       "      <td>NaN</td>\n",
       "      <td>NaN</td>\n",
       "    </tr>\n",
       "    <tr>\n",
       "      <th>mean</th>\n",
       "      <td>98929.308039</td>\n",
       "      <td>NaN</td>\n",
       "      <td>NaN</td>\n",
       "      <td>1158.437751</td>\n",
       "      <td>351.622840</td>\n",
       "      <td>400.713248</td>\n",
       "      <td>399.876283</td>\n",
       "      <td>444.732031</td>\n",
       "      <td>16456.413724</td>\n",
       "      <td>11.785117</td>\n",
       "      <td>15.665036</td>\n",
       "    </tr>\n",
       "    <tr>\n",
       "      <th>std</th>\n",
       "      <td>58179.839090</td>\n",
       "      <td>NaN</td>\n",
       "      <td>NaN</td>\n",
       "      <td>1033.485773</td>\n",
       "      <td>168.488445</td>\n",
       "      <td>180.568500</td>\n",
       "      <td>164.822741</td>\n",
       "      <td>175.004178</td>\n",
       "      <td>9455.318118</td>\n",
       "      <td>10.172672</td>\n",
       "      <td>12.703041</td>\n",
       "    </tr>\n",
       "    <tr>\n",
       "      <th>min</th>\n",
       "      <td>12.000000</td>\n",
       "      <td>NaN</td>\n",
       "      <td>NaN</td>\n",
       "      <td>0.000000</td>\n",
       "      <td>0.000000</td>\n",
       "      <td>0.000000</td>\n",
       "      <td>0.000000</td>\n",
       "      <td>0.000000</td>\n",
       "      <td>0.000000</td>\n",
       "      <td>2.260870</td>\n",
       "      <td>1.000000</td>\n",
       "    </tr>\n",
       "    <tr>\n",
       "      <th>25%</th>\n",
       "      <td>46153.000000</td>\n",
       "      <td>NaN</td>\n",
       "      <td>NaN</td>\n",
       "      <td>548.000000</td>\n",
       "      <td>239.000000</td>\n",
       "      <td>284.000000</td>\n",
       "      <td>287.000000</td>\n",
       "      <td>325.000000</td>\n",
       "      <td>11136.000000</td>\n",
       "      <td>7.187500</td>\n",
       "      <td>10.000000</td>\n",
       "    </tr>\n",
       "    <tr>\n",
       "      <th>50%</th>\n",
       "      <td>101432.000000</td>\n",
       "      <td>NaN</td>\n",
       "      <td>NaN</td>\n",
       "      <td>803.000000</td>\n",
       "      <td>318.000000</td>\n",
       "      <td>366.000000</td>\n",
       "      <td>365.000000</td>\n",
       "      <td>410.000000</td>\n",
       "      <td>14356.000000</td>\n",
       "      <td>10.000000</td>\n",
       "      <td>14.000000</td>\n",
       "    </tr>\n",
       "    <tr>\n",
       "      <th>75%</th>\n",
       "      <td>151653.000000</td>\n",
       "      <td>NaN</td>\n",
       "      <td>NaN</td>\n",
       "      <td>1349.000000</td>\n",
       "      <td>425.000000</td>\n",
       "      <td>478.000000</td>\n",
       "      <td>480.000000</td>\n",
       "      <td>528.000000</td>\n",
       "      <td>18780.000000</td>\n",
       "      <td>14.428571</td>\n",
       "      <td>20.000000</td>\n",
       "    </tr>\n",
       "    <tr>\n",
       "      <th>max</th>\n",
       "      <td>191779.000000</td>\n",
       "      <td>NaN</td>\n",
       "      <td>NaN</td>\n",
       "      <td>5982.000000</td>\n",
       "      <td>1500.000000</td>\n",
       "      <td>1500.000000</td>\n",
       "      <td>1311.000000</td>\n",
       "      <td>1331.000000</td>\n",
       "      <td>174523.000000</td>\n",
       "      <td>450.000000</td>\n",
       "      <td>200.000000</td>\n",
       "    </tr>\n",
       "  </tbody>\n",
       "</table>\n",
       "</div>"
      ],
      "text/plain": [
       "                   id state gender  median_home_val  median_household_income  \\\n",
       "count     3993.000000  3993   3993      3993.000000              3993.000000   \n",
       "unique            NaN    52     10              NaN                      NaN   \n",
       "top               NaN    CA      F              NaN                      NaN   \n",
       "freq              NaN   751   2080              NaN                      NaN   \n",
       "mean     98929.308039   NaN    NaN      1158.437751               351.622840   \n",
       "std      58179.839090   NaN    NaN      1033.485773               168.488445   \n",
       "min         12.000000   NaN    NaN         0.000000                 0.000000   \n",
       "25%      46153.000000   NaN    NaN       548.000000               239.000000   \n",
       "50%     101432.000000   NaN    NaN       803.000000               318.000000   \n",
       "75%     151653.000000   NaN    NaN      1349.000000               425.000000   \n",
       "max     191779.000000   NaN    NaN      5982.000000              1500.000000   \n",
       "\n",
       "                ic2          ic3          ic4            ic5      avggift  \\\n",
       "count   3993.000000  3993.000000  3993.000000    3993.000000  3993.000000   \n",
       "unique          NaN          NaN          NaN            NaN          NaN   \n",
       "top             NaN          NaN          NaN            NaN          NaN   \n",
       "freq            NaN          NaN          NaN            NaN          NaN   \n",
       "mean     400.713248   399.876283   444.732031   16456.413724    11.785117   \n",
       "std      180.568500   164.822741   175.004178    9455.318118    10.172672   \n",
       "min        0.000000     0.000000     0.000000       0.000000     2.260870   \n",
       "25%      284.000000   287.000000   325.000000   11136.000000     7.187500   \n",
       "50%      366.000000   365.000000   410.000000   14356.000000    10.000000   \n",
       "75%      478.000000   480.000000   528.000000   18780.000000    14.428571   \n",
       "max     1500.000000  1311.000000  1331.000000  174523.000000   450.000000   \n",
       "\n",
       "           target_d  \n",
       "count   3993.000000  \n",
       "unique          NaN  \n",
       "top             NaN  \n",
       "freq            NaN  \n",
       "mean      15.665036  \n",
       "std       12.703041  \n",
       "min        1.000000  \n",
       "25%       10.000000  \n",
       "50%       14.000000  \n",
       "75%       20.000000  \n",
       "max      200.000000  "
      ]
     },
     "execution_count": 38,
     "metadata": {},
     "output_type": "execute_result"
    }
   ],
   "source": [
    "data.describe(include='all')"
   ]
  },
  {
   "cell_type": "code",
   "execution_count": 39,
   "metadata": {},
   "outputs": [
    {
     "data": {
      "text/html": [
       "<div>\n",
       "<style scoped>\n",
       "    .dataframe tbody tr th:only-of-type {\n",
       "        vertical-align: middle;\n",
       "    }\n",
       "\n",
       "    .dataframe tbody tr th {\n",
       "        vertical-align: top;\n",
       "    }\n",
       "\n",
       "    .dataframe thead th {\n",
       "        text-align: right;\n",
       "    }\n",
       "</style>\n",
       "<table border=\"1\" class=\"dataframe\">\n",
       "  <thead>\n",
       "    <tr style=\"text-align: right;\">\n",
       "      <th></th>\n",
       "      <th>count</th>\n",
       "      <th>mean</th>\n",
       "      <th>std</th>\n",
       "      <th>min</th>\n",
       "      <th>25%</th>\n",
       "      <th>50%</th>\n",
       "      <th>75%</th>\n",
       "      <th>max</th>\n",
       "    </tr>\n",
       "  </thead>\n",
       "  <tbody>\n",
       "    <tr>\n",
       "      <th>id</th>\n",
       "      <td>3993.0</td>\n",
       "      <td>98929.308039</td>\n",
       "      <td>58179.839090</td>\n",
       "      <td>12.00000</td>\n",
       "      <td>46153.0000</td>\n",
       "      <td>101432.0</td>\n",
       "      <td>151653.000000</td>\n",
       "      <td>191779.0</td>\n",
       "    </tr>\n",
       "    <tr>\n",
       "      <th>median_home_val</th>\n",
       "      <td>3993.0</td>\n",
       "      <td>1158.437751</td>\n",
       "      <td>1033.485773</td>\n",
       "      <td>0.00000</td>\n",
       "      <td>548.0000</td>\n",
       "      <td>803.0</td>\n",
       "      <td>1349.000000</td>\n",
       "      <td>5982.0</td>\n",
       "    </tr>\n",
       "    <tr>\n",
       "      <th>median_household_income</th>\n",
       "      <td>3993.0</td>\n",
       "      <td>351.622840</td>\n",
       "      <td>168.488445</td>\n",
       "      <td>0.00000</td>\n",
       "      <td>239.0000</td>\n",
       "      <td>318.0</td>\n",
       "      <td>425.000000</td>\n",
       "      <td>1500.0</td>\n",
       "    </tr>\n",
       "    <tr>\n",
       "      <th>ic2</th>\n",
       "      <td>3993.0</td>\n",
       "      <td>400.713248</td>\n",
       "      <td>180.568500</td>\n",
       "      <td>0.00000</td>\n",
       "      <td>284.0000</td>\n",
       "      <td>366.0</td>\n",
       "      <td>478.000000</td>\n",
       "      <td>1500.0</td>\n",
       "    </tr>\n",
       "    <tr>\n",
       "      <th>ic3</th>\n",
       "      <td>3993.0</td>\n",
       "      <td>399.876283</td>\n",
       "      <td>164.822741</td>\n",
       "      <td>0.00000</td>\n",
       "      <td>287.0000</td>\n",
       "      <td>365.0</td>\n",
       "      <td>480.000000</td>\n",
       "      <td>1311.0</td>\n",
       "    </tr>\n",
       "    <tr>\n",
       "      <th>ic4</th>\n",
       "      <td>3993.0</td>\n",
       "      <td>444.732031</td>\n",
       "      <td>175.004178</td>\n",
       "      <td>0.00000</td>\n",
       "      <td>325.0000</td>\n",
       "      <td>410.0</td>\n",
       "      <td>528.000000</td>\n",
       "      <td>1331.0</td>\n",
       "    </tr>\n",
       "    <tr>\n",
       "      <th>ic5</th>\n",
       "      <td>3993.0</td>\n",
       "      <td>16456.413724</td>\n",
       "      <td>9455.318118</td>\n",
       "      <td>0.00000</td>\n",
       "      <td>11136.0000</td>\n",
       "      <td>14356.0</td>\n",
       "      <td>18780.000000</td>\n",
       "      <td>174523.0</td>\n",
       "    </tr>\n",
       "    <tr>\n",
       "      <th>avggift</th>\n",
       "      <td>3993.0</td>\n",
       "      <td>11.785117</td>\n",
       "      <td>10.172672</td>\n",
       "      <td>2.26087</td>\n",
       "      <td>7.1875</td>\n",
       "      <td>10.0</td>\n",
       "      <td>14.428571</td>\n",
       "      <td>450.0</td>\n",
       "    </tr>\n",
       "    <tr>\n",
       "      <th>target_d</th>\n",
       "      <td>3993.0</td>\n",
       "      <td>15.665036</td>\n",
       "      <td>12.703041</td>\n",
       "      <td>1.00000</td>\n",
       "      <td>10.0000</td>\n",
       "      <td>14.0</td>\n",
       "      <td>20.000000</td>\n",
       "      <td>200.0</td>\n",
       "    </tr>\n",
       "  </tbody>\n",
       "</table>\n",
       "</div>"
      ],
      "text/plain": [
       "                          count          mean           std       min  \\\n",
       "id                       3993.0  98929.308039  58179.839090  12.00000   \n",
       "median_home_val          3993.0   1158.437751   1033.485773   0.00000   \n",
       "median_household_income  3993.0    351.622840    168.488445   0.00000   \n",
       "ic2                      3993.0    400.713248    180.568500   0.00000   \n",
       "ic3                      3993.0    399.876283    164.822741   0.00000   \n",
       "ic4                      3993.0    444.732031    175.004178   0.00000   \n",
       "ic5                      3993.0  16456.413724   9455.318118   0.00000   \n",
       "avggift                  3993.0     11.785117     10.172672   2.26087   \n",
       "target_d                 3993.0     15.665036     12.703041   1.00000   \n",
       "\n",
       "                                25%       50%            75%       max  \n",
       "id                       46153.0000  101432.0  151653.000000  191779.0  \n",
       "median_home_val            548.0000     803.0    1349.000000    5982.0  \n",
       "median_household_income    239.0000     318.0     425.000000    1500.0  \n",
       "ic2                        284.0000     366.0     478.000000    1500.0  \n",
       "ic3                        287.0000     365.0     480.000000    1311.0  \n",
       "ic4                        325.0000     410.0     528.000000    1331.0  \n",
       "ic5                      11136.0000   14356.0   18780.000000  174523.0  \n",
       "avggift                      7.1875      10.0      14.428571     450.0  \n",
       "target_d                    10.0000      14.0      20.000000     200.0  "
      ]
     },
     "execution_count": 39,
     "metadata": {},
     "output_type": "execute_result"
    }
   ],
   "source": [
    "summary = data.describe().T #Transposed dataframe from describe() function.\n",
    "summary"
   ]
  },
  {
   "cell_type": "markdown",
   "metadata": {},
   "source": [
    "**IQR** Interquartile range\n",
    "\n",
    "*Is the difference between the 75th and 25th percentiles of the data.*"
   ]
  },
  {
   "cell_type": "code",
   "execution_count": 40,
   "metadata": {},
   "outputs": [
    {
     "data": {
      "text/html": [
       "<div>\n",
       "<style scoped>\n",
       "    .dataframe tbody tr th:only-of-type {\n",
       "        vertical-align: middle;\n",
       "    }\n",
       "\n",
       "    .dataframe tbody tr th {\n",
       "        vertical-align: top;\n",
       "    }\n",
       "\n",
       "    .dataframe thead th {\n",
       "        text-align: right;\n",
       "    }\n",
       "</style>\n",
       "<table border=\"1\" class=\"dataframe\">\n",
       "  <thead>\n",
       "    <tr style=\"text-align: right;\">\n",
       "      <th></th>\n",
       "      <th>count</th>\n",
       "      <th>mean</th>\n",
       "      <th>std</th>\n",
       "      <th>min</th>\n",
       "      <th>25%</th>\n",
       "      <th>50%</th>\n",
       "      <th>75%</th>\n",
       "      <th>max</th>\n",
       "      <th>iqr</th>\n",
       "    </tr>\n",
       "  </thead>\n",
       "  <tbody>\n",
       "    <tr>\n",
       "      <th>id</th>\n",
       "      <td>3993.0</td>\n",
       "      <td>98929.308039</td>\n",
       "      <td>58179.839090</td>\n",
       "      <td>12.00000</td>\n",
       "      <td>46153.0000</td>\n",
       "      <td>101432.0</td>\n",
       "      <td>151653.000000</td>\n",
       "      <td>191779.0</td>\n",
       "      <td>105500.000000</td>\n",
       "    </tr>\n",
       "    <tr>\n",
       "      <th>median_home_val</th>\n",
       "      <td>3993.0</td>\n",
       "      <td>1158.437751</td>\n",
       "      <td>1033.485773</td>\n",
       "      <td>0.00000</td>\n",
       "      <td>548.0000</td>\n",
       "      <td>803.0</td>\n",
       "      <td>1349.000000</td>\n",
       "      <td>5982.0</td>\n",
       "      <td>801.000000</td>\n",
       "    </tr>\n",
       "    <tr>\n",
       "      <th>median_household_income</th>\n",
       "      <td>3993.0</td>\n",
       "      <td>351.622840</td>\n",
       "      <td>168.488445</td>\n",
       "      <td>0.00000</td>\n",
       "      <td>239.0000</td>\n",
       "      <td>318.0</td>\n",
       "      <td>425.000000</td>\n",
       "      <td>1500.0</td>\n",
       "      <td>186.000000</td>\n",
       "    </tr>\n",
       "    <tr>\n",
       "      <th>ic2</th>\n",
       "      <td>3993.0</td>\n",
       "      <td>400.713248</td>\n",
       "      <td>180.568500</td>\n",
       "      <td>0.00000</td>\n",
       "      <td>284.0000</td>\n",
       "      <td>366.0</td>\n",
       "      <td>478.000000</td>\n",
       "      <td>1500.0</td>\n",
       "      <td>194.000000</td>\n",
       "    </tr>\n",
       "    <tr>\n",
       "      <th>ic3</th>\n",
       "      <td>3993.0</td>\n",
       "      <td>399.876283</td>\n",
       "      <td>164.822741</td>\n",
       "      <td>0.00000</td>\n",
       "      <td>287.0000</td>\n",
       "      <td>365.0</td>\n",
       "      <td>480.000000</td>\n",
       "      <td>1311.0</td>\n",
       "      <td>193.000000</td>\n",
       "    </tr>\n",
       "    <tr>\n",
       "      <th>ic4</th>\n",
       "      <td>3993.0</td>\n",
       "      <td>444.732031</td>\n",
       "      <td>175.004178</td>\n",
       "      <td>0.00000</td>\n",
       "      <td>325.0000</td>\n",
       "      <td>410.0</td>\n",
       "      <td>528.000000</td>\n",
       "      <td>1331.0</td>\n",
       "      <td>203.000000</td>\n",
       "    </tr>\n",
       "    <tr>\n",
       "      <th>ic5</th>\n",
       "      <td>3993.0</td>\n",
       "      <td>16456.413724</td>\n",
       "      <td>9455.318118</td>\n",
       "      <td>0.00000</td>\n",
       "      <td>11136.0000</td>\n",
       "      <td>14356.0</td>\n",
       "      <td>18780.000000</td>\n",
       "      <td>174523.0</td>\n",
       "      <td>7644.000000</td>\n",
       "    </tr>\n",
       "    <tr>\n",
       "      <th>avggift</th>\n",
       "      <td>3993.0</td>\n",
       "      <td>11.785117</td>\n",
       "      <td>10.172672</td>\n",
       "      <td>2.26087</td>\n",
       "      <td>7.1875</td>\n",
       "      <td>10.0</td>\n",
       "      <td>14.428571</td>\n",
       "      <td>450.0</td>\n",
       "      <td>7.241071</td>\n",
       "    </tr>\n",
       "    <tr>\n",
       "      <th>target_d</th>\n",
       "      <td>3993.0</td>\n",
       "      <td>15.665036</td>\n",
       "      <td>12.703041</td>\n",
       "      <td>1.00000</td>\n",
       "      <td>10.0000</td>\n",
       "      <td>14.0</td>\n",
       "      <td>20.000000</td>\n",
       "      <td>200.0</td>\n",
       "      <td>10.000000</td>\n",
       "    </tr>\n",
       "  </tbody>\n",
       "</table>\n",
       "</div>"
      ],
      "text/plain": [
       "                          count          mean           std       min  \\\n",
       "id                       3993.0  98929.308039  58179.839090  12.00000   \n",
       "median_home_val          3993.0   1158.437751   1033.485773   0.00000   \n",
       "median_household_income  3993.0    351.622840    168.488445   0.00000   \n",
       "ic2                      3993.0    400.713248    180.568500   0.00000   \n",
       "ic3                      3993.0    399.876283    164.822741   0.00000   \n",
       "ic4                      3993.0    444.732031    175.004178   0.00000   \n",
       "ic5                      3993.0  16456.413724   9455.318118   0.00000   \n",
       "avggift                  3993.0     11.785117     10.172672   2.26087   \n",
       "target_d                 3993.0     15.665036     12.703041   1.00000   \n",
       "\n",
       "                                25%       50%            75%       max  \\\n",
       "id                       46153.0000  101432.0  151653.000000  191779.0   \n",
       "median_home_val            548.0000     803.0    1349.000000    5982.0   \n",
       "median_household_income    239.0000     318.0     425.000000    1500.0   \n",
       "ic2                        284.0000     366.0     478.000000    1500.0   \n",
       "ic3                        287.0000     365.0     480.000000    1311.0   \n",
       "ic4                        325.0000     410.0     528.000000    1331.0   \n",
       "ic5                      11136.0000   14356.0   18780.000000  174523.0   \n",
       "avggift                      7.1875      10.0      14.428571     450.0   \n",
       "target_d                    10.0000      14.0      20.000000     200.0   \n",
       "\n",
       "                                   iqr  \n",
       "id                       105500.000000  \n",
       "median_home_val             801.000000  \n",
       "median_household_income     186.000000  \n",
       "ic2                         194.000000  \n",
       "ic3                         193.000000  \n",
       "ic4                         203.000000  \n",
       "ic5                        7644.000000  \n",
       "avggift                       7.241071  \n",
       "target_d                     10.000000  "
      ]
     },
     "execution_count": 40,
     "metadata": {},
     "output_type": "execute_result"
    }
   ],
   "source": [
    "summary['iqr'] = summary['75%'] - summary['25%']\n",
    "summary"
   ]
  },
  {
   "cell_type": "code",
   "execution_count": 41,
   "metadata": {},
   "outputs": [
    {
     "data": {
      "text/html": [
       "<div>\n",
       "<style scoped>\n",
       "    .dataframe tbody tr th:only-of-type {\n",
       "        vertical-align: middle;\n",
       "    }\n",
       "\n",
       "    .dataframe tbody tr th {\n",
       "        vertical-align: top;\n",
       "    }\n",
       "\n",
       "    .dataframe thead th {\n",
       "        text-align: right;\n",
       "    }\n",
       "</style>\n",
       "<table border=\"1\" class=\"dataframe\">\n",
       "  <thead>\n",
       "    <tr style=\"text-align: right;\">\n",
       "      <th></th>\n",
       "      <th>count</th>\n",
       "      <th>mean</th>\n",
       "      <th>std</th>\n",
       "      <th>min</th>\n",
       "      <th>25%</th>\n",
       "      <th>50%</th>\n",
       "      <th>75%</th>\n",
       "      <th>max</th>\n",
       "      <th>iqr</th>\n",
       "    </tr>\n",
       "  </thead>\n",
       "  <tbody>\n",
       "    <tr>\n",
       "      <th>id</th>\n",
       "      <td>3993.0</td>\n",
       "      <td>98929.31</td>\n",
       "      <td>58179.84</td>\n",
       "      <td>12.00</td>\n",
       "      <td>46153.00</td>\n",
       "      <td>101432.0</td>\n",
       "      <td>151653.00</td>\n",
       "      <td>191779.0</td>\n",
       "      <td>105500.00</td>\n",
       "    </tr>\n",
       "    <tr>\n",
       "      <th>median_home_val</th>\n",
       "      <td>3993.0</td>\n",
       "      <td>1158.44</td>\n",
       "      <td>1033.49</td>\n",
       "      <td>0.00</td>\n",
       "      <td>548.00</td>\n",
       "      <td>803.0</td>\n",
       "      <td>1349.00</td>\n",
       "      <td>5982.0</td>\n",
       "      <td>801.00</td>\n",
       "    </tr>\n",
       "    <tr>\n",
       "      <th>median_household_income</th>\n",
       "      <td>3993.0</td>\n",
       "      <td>351.62</td>\n",
       "      <td>168.49</td>\n",
       "      <td>0.00</td>\n",
       "      <td>239.00</td>\n",
       "      <td>318.0</td>\n",
       "      <td>425.00</td>\n",
       "      <td>1500.0</td>\n",
       "      <td>186.00</td>\n",
       "    </tr>\n",
       "    <tr>\n",
       "      <th>ic2</th>\n",
       "      <td>3993.0</td>\n",
       "      <td>400.71</td>\n",
       "      <td>180.57</td>\n",
       "      <td>0.00</td>\n",
       "      <td>284.00</td>\n",
       "      <td>366.0</td>\n",
       "      <td>478.00</td>\n",
       "      <td>1500.0</td>\n",
       "      <td>194.00</td>\n",
       "    </tr>\n",
       "    <tr>\n",
       "      <th>ic3</th>\n",
       "      <td>3993.0</td>\n",
       "      <td>399.88</td>\n",
       "      <td>164.82</td>\n",
       "      <td>0.00</td>\n",
       "      <td>287.00</td>\n",
       "      <td>365.0</td>\n",
       "      <td>480.00</td>\n",
       "      <td>1311.0</td>\n",
       "      <td>193.00</td>\n",
       "    </tr>\n",
       "    <tr>\n",
       "      <th>ic4</th>\n",
       "      <td>3993.0</td>\n",
       "      <td>444.73</td>\n",
       "      <td>175.00</td>\n",
       "      <td>0.00</td>\n",
       "      <td>325.00</td>\n",
       "      <td>410.0</td>\n",
       "      <td>528.00</td>\n",
       "      <td>1331.0</td>\n",
       "      <td>203.00</td>\n",
       "    </tr>\n",
       "    <tr>\n",
       "      <th>ic5</th>\n",
       "      <td>3993.0</td>\n",
       "      <td>16456.41</td>\n",
       "      <td>9455.32</td>\n",
       "      <td>0.00</td>\n",
       "      <td>11136.00</td>\n",
       "      <td>14356.0</td>\n",
       "      <td>18780.00</td>\n",
       "      <td>174523.0</td>\n",
       "      <td>7644.00</td>\n",
       "    </tr>\n",
       "    <tr>\n",
       "      <th>avggift</th>\n",
       "      <td>3993.0</td>\n",
       "      <td>11.79</td>\n",
       "      <td>10.17</td>\n",
       "      <td>2.26</td>\n",
       "      <td>7.19</td>\n",
       "      <td>10.0</td>\n",
       "      <td>14.43</td>\n",
       "      <td>450.0</td>\n",
       "      <td>7.24</td>\n",
       "    </tr>\n",
       "    <tr>\n",
       "      <th>target_d</th>\n",
       "      <td>3993.0</td>\n",
       "      <td>15.67</td>\n",
       "      <td>12.70</td>\n",
       "      <td>1.00</td>\n",
       "      <td>10.00</td>\n",
       "      <td>14.0</td>\n",
       "      <td>20.00</td>\n",
       "      <td>200.0</td>\n",
       "      <td>10.00</td>\n",
       "    </tr>\n",
       "  </tbody>\n",
       "</table>\n",
       "</div>"
      ],
      "text/plain": [
       "                          count      mean       std    min       25%  \\\n",
       "id                       3993.0  98929.31  58179.84  12.00  46153.00   \n",
       "median_home_val          3993.0   1158.44   1033.49   0.00    548.00   \n",
       "median_household_income  3993.0    351.62    168.49   0.00    239.00   \n",
       "ic2                      3993.0    400.71    180.57   0.00    284.00   \n",
       "ic3                      3993.0    399.88    164.82   0.00    287.00   \n",
       "ic4                      3993.0    444.73    175.00   0.00    325.00   \n",
       "ic5                      3993.0  16456.41   9455.32   0.00  11136.00   \n",
       "avggift                  3993.0     11.79     10.17   2.26      7.19   \n",
       "target_d                 3993.0     15.67     12.70   1.00     10.00   \n",
       "\n",
       "                              50%        75%       max        iqr  \n",
       "id                       101432.0  151653.00  191779.0  105500.00  \n",
       "median_home_val             803.0    1349.00    5982.0     801.00  \n",
       "median_household_income     318.0     425.00    1500.0     186.00  \n",
       "ic2                         366.0     478.00    1500.0     194.00  \n",
       "ic3                         365.0     480.00    1311.0     193.00  \n",
       "ic4                         410.0     528.00    1331.0     203.00  \n",
       "ic5                       14356.0   18780.00  174523.0    7644.00  \n",
       "avggift                      10.0      14.43     450.0       7.24  \n",
       "target_d                     14.0      20.00     200.0      10.00  "
      ]
     },
     "execution_count": 41,
     "metadata": {},
     "output_type": "execute_result"
    }
   ],
   "source": [
    "summary = round(summary,2)\n",
    "summary"
   ]
  },
  {
   "cell_type": "code",
   "execution_count": null,
   "metadata": {},
   "outputs": [],
   "source": []
  }
 ],
 "metadata": {
  "kernelspec": {
   "display_name": "Python 3 (ipykernel)",
   "language": "python",
   "name": "python3"
  },
  "language_info": {
   "codemirror_mode": {
    "name": "ipython",
    "version": 3
   },
   "file_extension": ".py",
   "mimetype": "text/x-python",
   "name": "python",
   "nbconvert_exporter": "python",
   "pygments_lexer": "ipython3",
   "version": "3.9.13"
  },
  "toc": {
   "base_numbering": 1,
   "nav_menu": {},
   "number_sections": true,
   "sideBar": true,
   "skip_h1_title": false,
   "title_cell": "Table of Contents",
   "title_sidebar": "Contents",
   "toc_cell": true,
   "toc_position": {},
   "toc_section_display": true,
   "toc_window_display": false
  },
  "varInspector": {
   "cols": {
    "lenName": 16,
    "lenType": 16,
    "lenVar": 40
   },
   "kernels_config": {
    "python": {
     "delete_cmd_postfix": "",
     "delete_cmd_prefix": "del ",
     "library": "var_list.py",
     "varRefreshCmd": "print(var_dic_list())"
    },
    "r": {
     "delete_cmd_postfix": ") ",
     "delete_cmd_prefix": "rm(",
     "library": "var_list.r",
     "varRefreshCmd": "cat(var_dic_list()) "
    }
   },
   "types_to_exclude": [
    "module",
    "function",
    "builtin_function_or_method",
    "instance",
    "_Feature"
   ],
   "window_display": false
  }
 },
 "nbformat": 4,
 "nbformat_minor": 2
}
